{
 "cells": [
  {
   "cell_type": "markdown",
   "id": "6d5a3717-1c79-40d5-bc73-7e077dc3a85e",
   "metadata": {},
   "source": [
    "# p30: Spectral integration, ODE style\n",
    "\n",
    "Compare to p12"
   ]
  },
  {
   "cell_type": "code",
   "execution_count": null,
   "id": "8ff78b94-12a8-4372-b7c5-01c0b2d43a91",
   "metadata": {},
   "outputs": [],
   "source": [
    "%config InlineBackend.figure_format='svg'\n",
    "from numpy import zeros,abs,dot,exp,sqrt,pi\n",
    "from scipy.special import erf\n",
    "from numpy.linalg import inv\n",
    "from chebPy import cheb\n",
    "from matplotlib.pyplot import figure,subplot,semilogy,grid,xlim,ylim,xlabel,ylabel,text"
   ]
  },
  {
   "cell_type": "code",
   "execution_count": null,
   "id": "cde1b5b2-fbbd-40b8-a99e-3fcfbfe61254",
   "metadata": {},
   "outputs": [],
   "source": [
    "Nmax = 50; E = zeros((4,Nmax+1))\n",
    "for N in range(1,Nmax+1):\n",
    "    D, x = cheb(N)\n",
    "    x = x[1:]; Di = inv(D[1:,1:]); w = Di[-1,:]\n",
    "    f = abs(x)**3;             E[0,N] = abs(dot(w,f)-0.5)\n",
    "    f = exp(-(x+1e-20)**(-2)); E[1,N] = abs(dot(w,f) - 2*(exp(-1)+sqrt(pi)*(erf(1)-1)))\n",
    "    f = 1/(1+x**2);            E[2,N] = abs(dot(w,f) - pi/2)\n",
    "    f = x**10;                 E[3,N] = abs(dot(w,f) - 2.0/11.0)\n",
    "\n",
    "labels = ('$|x|^3$', '$exp(-x^{-2})$', '$1/(1+x^2)$', '$x^{10}$')\n",
    "figure(figsize=(8,8))\n",
    "for iplot in range(4):\n",
    "    subplot(3,2,iplot+1)\n",
    "    semilogy(range(1,Nmax+1), E[iplot,1:]+1e-100, '.-')\n",
    "    xlabel('N'); ylabel('error'); xlim(1,Nmax); ylim(1e-18,1e3); grid(True)\n",
    "    text(25,0.02,labels[iplot])"
   ]
  },
  {
   "cell_type": "markdown",
   "id": "0f3e19fb-6cf6-4e41-9a62-f3f76475a9b8",
   "metadata": {},
   "source": [
    "## Repeat with Clenshaw-Curtis"
   ]
  },
  {
   "cell_type": "code",
   "execution_count": null,
   "id": "f3818ed4-3007-4f0b-bbca-43a8f09f6d98",
   "metadata": {
    "scrolled": true
   },
   "outputs": [],
   "source": [
    "from clencurt import *\n",
    "Nmax = 50; E = zeros((4,Nmax+1))\n",
    "for N in range(1,Nmax+1):\n",
    "    x,w = clencurt(N)\n",
    "    f = abs(x)**3;             E[0,N] = abs(dot(w,f)-0.5)\n",
    "    f = exp(-(x+1e-20)**(-2)); E[1,N] = abs(dot(w,f) - 2*(exp(-1)+sqrt(pi)*(erf(1)-1)))\n",
    "    f = 1/(1+x**2);            E[2,N] = abs(dot(w,f) - pi/2)\n",
    "    f = x**10;                 E[3,N] = abs(dot(w,f) - 2.0/11.0)\n",
    "\n",
    "labels = ('$|x|^3$', '$exp(-x^{-2})$', '$1/(1+x^2)$', '$x^{10}$')\n",
    "figure(figsize=(8,8))\n",
    "for iplot in range(4):\n",
    "    subplot(3,2,iplot+1)\n",
    "    semilogy(range(1,Nmax+1), E[iplot,1:]+1e-100, '.-')\n",
    "    xlabel('N'); ylabel('error'); xlim(1,Nmax); ylim(1e-18,1e3); grid(True)\n",
    "    text(25,0.02,labels[iplot])"
   ]
  },
  {
   "cell_type": "markdown",
   "id": "6023b9d5-27c6-4297-b8a4-e33db6e42bcc",
   "metadata": {},
   "source": [
    "## Repeat with Gauss-Legendre"
   ]
  },
  {
   "cell_type": "code",
   "execution_count": null,
   "id": "17bebc4d-977c-4377-b64a-2017ce40e328",
   "metadata": {},
   "outputs": [],
   "source": [
    "from gauss import *\n",
    "Nmax = 50; E = zeros((4,Nmax+1))\n",
    "for N in range(1,Nmax+1):\n",
    "    x,w = gauss(N)\n",
    "    f = abs(x)**3;             E[0,N] = abs(dot(w,f)-0.5)\n",
    "    f = exp(-(x+1e-20)**(-2)); E[1,N] = abs(dot(w,f) - 2*(exp(-1)+sqrt(pi)*(erf(1)-1)))\n",
    "    f = 1/(1+x**2);            E[2,N] = abs(dot(w,f) - pi/2)\n",
    "    f = x**10;                 E[3,N] = abs(dot(w,f) - 2.0/11.0)\n",
    "\n",
    "labels = ('$|x|^3$', '$exp(-x^{-2})$', '$1/(1+x^2)$', '$x^{10}$')\n",
    "figure(figsize=(8,8))\n",
    "for iplot in range(4):\n",
    "    subplot(3,2,iplot+1)\n",
    "    semilogy(range(1,Nmax+1), E[iplot,1:]+1e-100, '.-')\n",
    "    xlabel('N'); ylabel('error'); xlim(1,Nmax); ylim(1e-18,1e3); grid(True)\n",
    "    text(25,0.02,labels[iplot])"
   ]
  }
 ],
 "metadata": {
  "kernelspec": {
   "display_name": "Python 3 (ipykernel)",
   "language": "python",
   "name": "python3"
  },
  "language_info": {
   "codemirror_mode": {
    "name": "ipython",
    "version": 3
   },
   "file_extension": ".py",
   "mimetype": "text/x-python",
   "name": "python",
   "nbconvert_exporter": "python",
   "pygments_lexer": "ipython3",
   "version": "3.10.14"
  }
 },
 "nbformat": 4,
 "nbformat_minor": 5
}
